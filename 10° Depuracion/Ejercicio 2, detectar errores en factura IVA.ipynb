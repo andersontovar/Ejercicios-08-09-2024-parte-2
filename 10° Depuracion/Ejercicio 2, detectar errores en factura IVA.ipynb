{
 "cells": [
  {
   "cell_type": "code",
   "execution_count": 11,
   "metadata": {},
   "outputs": [],
   "source": [
    "'''\n",
    "base = input('Introduce la base imponible de la factura: ') # Error: codigo innecesario\n",
    "print(aplica_iva(base, iva)) # Error: codigo innecesario\n",
    "\n",
    "def aplica_iva(base, iva = 21): # Error: agregar solo el valor de la factura\n",
    "    base = base * iva   # Error: no se suma el valor del iva a la factura \n",
    "    return base \n",
    "'''\n",
    "\n",
    "def aplica_iva(factura):\n",
    "    iva = 21\n",
    "    return print(f'El valor de la factura con IVA es: {factura + (factura * iva) / 100}')"
   ]
  },
  {
   "cell_type": "code",
   "execution_count": 12,
   "metadata": {},
   "outputs": [
    {
     "name": "stdout",
     "output_type": "stream",
     "text": [
      "El valor de la factura con IVA es: 1210.0\n"
     ]
    }
   ],
   "source": [
    "aplica_iva(1000)"
   ]
  }
 ],
 "metadata": {
  "kernelspec": {
   "display_name": "Python 3",
   "language": "python",
   "name": "python3"
  },
  "language_info": {
   "codemirror_mode": {
    "name": "ipython",
    "version": 3
   },
   "file_extension": ".py",
   "mimetype": "text/x-python",
   "name": "python",
   "nbconvert_exporter": "python",
   "pygments_lexer": "ipython3",
   "version": "3.12.5"
  }
 },
 "nbformat": 4,
 "nbformat_minor": 2
}
