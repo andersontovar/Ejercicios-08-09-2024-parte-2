{
 "cells": [
  {
   "cell_type": "code",
   "execution_count": 23,
   "metadata": {},
   "outputs": [],
   "source": [
    "'''\n",
    "Detectar y corregir los errores del siguiente programa que calcula el producto escalar de dos vectores:\n",
    "\n",
    "u = (1, 2, 3)\n",
    "v = (4, 5, 6)\n",
    "\n",
    "def producto_escalar(u, v): # Error: no es posible iterar sobre tuplas\n",
    "    for i in u: # Error: codigo inservible\n",
    "        u[i+1] *= v[i+1]\n",
    "    return sum(u) # Error: Devuelve una suma erronea\n",
    "\n",
    "print(producto_escalar(u, v))\n",
    "'''\n",
    "u = (1, 2, 3)\n",
    "v = (4, 5, 6)\n",
    "\n",
    "def producto_escalar(vector1, vector2):\n",
    "    if len(vector1) != len(vector2): # Verifica si los vectores contienen la misma cantidad de items\n",
    "        print('El largo de los vectores no coinciden')\n",
    "    else:\n",
    "        vectores =  list(zip(vector1, vector2)) # Concatena los vectores\n",
    "        produc_escalar = 0\n",
    "        for i, e in vectores: # Itera sobre el vector\n",
    "            producto = i * e # multiplica los elementos del vector\n",
    "            produc_escalar += producto # suma cada producto\n",
    "    return print(f'El producto escolar del vector {vector1} y del vector {vector2} es: {produc_escalar}') # Devuelve el resultado"
   ]
  },
  {
   "cell_type": "code",
   "execution_count": 24,
   "metadata": {},
   "outputs": [
    {
     "name": "stdout",
     "output_type": "stream",
     "text": [
      "El producto escolar del vector (1, 2, 3) y del vector (4, 5, 6) es: 32\n"
     ]
    }
   ],
   "source": [
    "producto_escalar(u, v)"
   ]
  }
 ],
 "metadata": {
  "kernelspec": {
   "display_name": "Python 3",
   "language": "python",
   "name": "python3"
  },
  "language_info": {
   "codemirror_mode": {
    "name": "ipython",
    "version": 3
   },
   "file_extension": ".py",
   "mimetype": "text/x-python",
   "name": "python",
   "nbconvert_exporter": "python",
   "pygments_lexer": "ipython3",
   "version": "3.12.5"
  }
 },
 "nbformat": 4,
 "nbformat_minor": 2
}
