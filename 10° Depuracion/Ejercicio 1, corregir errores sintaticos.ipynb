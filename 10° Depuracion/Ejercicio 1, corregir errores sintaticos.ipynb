{
 "cells": [
  {
   "cell_type": "code",
   "execution_count": 3,
   "metadata": {},
   "outputs": [
    {
     "name": "stdout",
     "output_type": "stream",
     "text": [
      "Pasa\n"
     ]
    }
   ],
   "source": [
    "'''\n",
    "contraseña = input('Introduce la contraseña: \") # Error: comillas distintas\n",
    "if contraseña in ['sesamo'): # Error: comparacion del condicional erronea y en los corchetes\n",
    "  print('Pasa')\n",
    "else # Error: se esperaba ':'\n",
    "  print('No pasa')\n",
    "'''\n",
    "contraseña = input('Introduce la contraseña: ')\n",
    "if contraseña.lower() == 'sesamo': \n",
    "    print('Pasa')\n",
    "else:\n",
    "    print('No pasa')"
   ]
  }
 ],
 "metadata": {
  "kernelspec": {
   "display_name": "Python 3",
   "language": "python",
   "name": "python3"
  },
  "language_info": {
   "codemirror_mode": {
    "name": "ipython",
    "version": 3
   },
   "file_extension": ".py",
   "mimetype": "text/x-python",
   "name": "python",
   "nbconvert_exporter": "python",
   "pygments_lexer": "ipython3",
   "version": "3.12.5"
  }
 },
 "nbformat": 4,
 "nbformat_minor": 2
}
