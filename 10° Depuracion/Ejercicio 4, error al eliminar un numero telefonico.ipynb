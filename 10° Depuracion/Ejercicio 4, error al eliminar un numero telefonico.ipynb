{
 "cells": [
  {
   "cell_type": "code",
   "execution_count": 52,
   "metadata": {},
   "outputs": [],
   "source": [
    "'''\n",
    "listin = {'Juan':123456789, 'Pedro':987654321}\n",
    "\n",
    "def elimina(listin, usuario): \n",
    "    del listin[usuario] # Error: no se guardo en una variable el usuario a eliminar, antes de ser eliminada\n",
    "    return listin[usuario] # Error: no devuelve nada\n",
    "\n",
    "print(elimina(listin, 'Pablo'))\n",
    "\n",
    "'''\n",
    "listin_telefonico = {'Juan':12345789, 'Pedro':987654321}\n",
    "\n",
    "def eliminar_numero(listin, usuario):\n",
    "    if usuario in listin:\n",
    "        numero_eliminado = listin[usuario]\n",
    "        del (listin[usuario])\n",
    "        return numero_eliminado\n",
    "    else:\n",
    "        return print('El usuario no esta en el listin telefonico')"
   ]
  },
  {
   "cell_type": "code",
   "execution_count": 53,
   "metadata": {},
   "outputs": [
    {
     "data": {
      "text/plain": [
       "987654321"
      ]
     },
     "execution_count": 53,
     "metadata": {},
     "output_type": "execute_result"
    }
   ],
   "source": [
    "eliminar_numero(listin_telefonico, 'Pedro')"
   ]
  }
 ],
 "metadata": {
  "kernelspec": {
   "display_name": "Python 3",
   "language": "python",
   "name": "python3"
  },
  "language_info": {
   "codemirror_mode": {
    "name": "ipython",
    "version": 3
   },
   "file_extension": ".py",
   "mimetype": "text/x-python",
   "name": "python",
   "nbconvert_exporter": "python",
   "pygments_lexer": "ipython3",
   "version": "3.12.5"
  }
 },
 "nbformat": 4,
 "nbformat_minor": 2
}
